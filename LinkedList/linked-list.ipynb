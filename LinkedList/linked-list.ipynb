{
 "cells": [
  {
   "cell_type": "code",
   "execution_count": 1,
   "metadata": {},
   "outputs": [],
   "source": [
    "class Node():\n",
    "    def __init__(self, data):\n",
    "        # store data\n",
    "        self.data = data\n",
    "\n",
    "        # reference node point\n",
    "        self.next = None\n",
    "        return"
   ]
  },
  {
   "cell_type": "code",
   "execution_count": 5,
   "metadata": {},
   "outputs": [],
   "source": [
    "class LinkedList():\n",
    "    def __init__(self):\n",
    "        # basic attributes of linked-list\n",
    "        self.head = None\n",
    "        self.tail = None\n",
    "\n",
    "    def add(self, new_data):\n",
    "        # if not a node, make it a node\n",
    "        if not isinstance(new_data, Node):\n",
    "            new_data = Node(new_data)\n",
    "        \n",
    "        # put new node into places\n",
    "        if self.head == None:\n",
    "            self.head = new_data # nothing in the linked-list\n",
    "        else:\n",
    "            self.next = new_data # add new node as \"next\" node\n",
    "            \n",
    "        self.tail = new_data # if there are nodes in, new node will be the new tail\n",
    "        return\n",
    "\n",
    "    def reverse(self, head):\n",
    "        previous = None\n",
    "\n",
    "        while head:\n",
    "            current = head\n",
    "            head = head.next\n",
    "            current.next = previous\n",
    "            previous = current\n",
    "\n",
    "        return previous\n",
    "\n",
    "    \n",
    "    "
   ]
  },
  {
   "cell_type": "code",
   "execution_count": 6,
   "metadata": {},
   "outputs": [],
   "source": [
    "node1 = Node(15)"
   ]
  },
  {
   "cell_type": "code",
   "execution_count": 7,
   "metadata": {},
   "outputs": [],
   "source": [
    "list1 = LinkedList()\n",
    "list1.add(1)\n",
    "list1.add(node1)"
   ]
  },
  {
   "cell_type": "code",
   "execution_count": null,
   "metadata": {},
   "outputs": [],
   "source": []
  }
 ],
 "metadata": {
  "kernelspec": {
   "display_name": "leetcode",
   "language": "python",
   "name": "python3"
  },
  "language_info": {
   "codemirror_mode": {
    "name": "ipython",
    "version": 3
   },
   "file_extension": ".py",
   "mimetype": "text/x-python",
   "name": "python",
   "nbconvert_exporter": "python",
   "pygments_lexer": "ipython3",
   "version": "3.9.10"
  },
  "orig_nbformat": 4,
  "vscode": {
   "interpreter": {
    "hash": "1b9e91efbaa54890503e38c8e6e98a2cc30e601649a8b85d75ee548403ff3824"
   }
  }
 },
 "nbformat": 4,
 "nbformat_minor": 2
}

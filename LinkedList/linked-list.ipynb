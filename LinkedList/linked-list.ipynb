{
 "cells": [
  {
   "cell_type": "code",
   "execution_count": 8,
   "metadata": {},
   "outputs": [],
   "source": [
    "class LinkedNode():\n",
    "    def __init__(self, data):\n",
    "        # store data\n",
    "        self.data = data\n",
    "\n",
    "        # reference node point\n",
    "        self.next = None\n",
    "        return"
   ]
  },
  {
   "cell_type": "code",
   "execution_count": 22,
   "metadata": {},
   "outputs": [],
   "source": [
    "class LinkedList():\n",
    "    def __init__(self):\n",
    "        # basic attributes of linked-list\n",
    "        self.head = None\n",
    "        self.tail = None\n",
    "        return\n",
    "\n",
    "    def add(self, new_data):\n",
    "        # if not a node, make it a node\n",
    "        if not isinstance(new_data, LinkedNode):\n",
    "            new_data = LinkedNode(new_data)\n",
    "        \n",
    "        # put new node into places\n",
    "        if self.head == None:\n",
    "            self.head = new_data # nothing in the linked-list\n",
    "        else:\n",
    "            self.tail.next = new_data # add new node as \"next\" node\n",
    "            \n",
    "        self.tail = new_data # if there are nodes in, new node will be the new tail\n",
    "        return\n",
    "\n",
    "    def reverse(self):\n",
    "        # processing a pair a time(from head)\n",
    "        previous = None # initial previous node\n",
    "        current = self.head # initial current node point\n",
    "        next_node = current.next # initial next node point\n",
    "\n",
    "        # while there is a next-node\n",
    "        while next_node is not None:\n",
    "            current.next = previous # move previous as the next\n",
    "            previous = current # move current as the previous\n",
    "            current = next_node # move next as the current\n",
    "            next_node = next_node.next # set the next node\n",
    "        \n",
    "        current.next = previous\n",
    "        self.head = current\n",
    "\n",
    "        return\n",
    "\n",
    "    def remove(self, value):\n",
    "        # remove the first item in the list with this value\n",
    "        previous = None # initial previous node\n",
    "        current = self.head # initial current node point\n",
    "\n",
    "        # if not empty\n",
    "        while current is not None:\n",
    "            if current.data == value:\n",
    "                previous.next = current.next # skip node\n",
    "                return\n",
    "\n",
    "            # scanning through\n",
    "            previous = current\n",
    "            current = current.next\n",
    "\n",
    "        return\n",
    "\n",
    "    def length(self):\n",
    "        # returns the number of list items\n",
    "        count = 0\n",
    "        current = self.head # initial current node point\n",
    "\n",
    "        while current is not None:\n",
    "            count = count + 1\n",
    "\n",
    "            # jump to the next node\n",
    "            current = current.next\n",
    "\n",
    "        return count\n",
    "\n",
    "    def print_list(self):\n",
    "        # outputs the list (the value of the node, actually)\n",
    "\n",
    "        current = self.head # initial current node point\n",
    "        results = []\n",
    "\n",
    "        while current is not None:\n",
    "            results.append(current.data)\n",
    "\n",
    "            # jump to the linked node\n",
    "            current = current.next\n",
    "\n",
    "        print(results)\n",
    "        return \n"
   ]
  },
  {
   "cell_type": "code",
   "execution_count": 23,
   "metadata": {},
   "outputs": [],
   "source": [
    "node1 = LinkedNode(15)"
   ]
  },
  {
   "cell_type": "code",
   "execution_count": 28,
   "metadata": {},
   "outputs": [
    {
     "name": "stdout",
     "output_type": "stream",
     "text": [
      "[1, 2, 15]\n"
     ]
    }
   ],
   "source": [
    "list1 = LinkedList()\n",
    "list1.add(1)\n",
    "list1.add(2)\n",
    "list1.add(node1)\n",
    "list1.print_list()"
   ]
  },
  {
   "cell_type": "code",
   "execution_count": 29,
   "metadata": {},
   "outputs": [],
   "source": [
    "list1.reverse()"
   ]
  },
  {
   "cell_type": "code",
   "execution_count": 30,
   "metadata": {},
   "outputs": [
    {
     "name": "stdout",
     "output_type": "stream",
     "text": [
      "[15, 2, 1]\n"
     ]
    }
   ],
   "source": [
    "list1.print_list()"
   ]
  },
  {
   "cell_type": "code",
   "execution_count": 31,
   "metadata": {},
   "outputs": [
    {
     "data": {
      "text/plain": [
       "3"
      ]
     },
     "execution_count": 31,
     "metadata": {},
     "output_type": "execute_result"
    }
   ],
   "source": [
    "list1.length()"
   ]
  },
  {
   "cell_type": "code",
   "execution_count": 33,
   "metadata": {},
   "outputs": [
    {
     "name": "stdout",
     "output_type": "stream",
     "text": [
      "[15, 2, 1]\n"
     ]
    }
   ],
   "source": [
    "list1.remove(3)\n",
    "list1.print_list()"
   ]
  },
  {
   "cell_type": "code",
   "execution_count": 34,
   "metadata": {},
   "outputs": [
    {
     "name": "stdout",
     "output_type": "stream",
     "text": [
      "[15, 1]\n"
     ]
    }
   ],
   "source": [
    "list1.remove(2)\n",
    "list1.print_list()"
   ]
  },
  {
   "cell_type": "code",
   "execution_count": null,
   "metadata": {},
   "outputs": [],
   "source": []
  }
 ],
 "metadata": {
  "kernelspec": {
   "display_name": "leetcode",
   "language": "python",
   "name": "python3"
  },
  "language_info": {
   "codemirror_mode": {
    "name": "ipython",
    "version": 3
   },
   "file_extension": ".py",
   "mimetype": "text/x-python",
   "name": "python",
   "nbconvert_exporter": "python",
   "pygments_lexer": "ipython3",
   "version": "3.9.10"
  },
  "orig_nbformat": 4,
  "vscode": {
   "interpreter": {
    "hash": "1b9e91efbaa54890503e38c8e6e98a2cc30e601649a8b85d75ee548403ff3824"
   }
  }
 },
 "nbformat": 4,
 "nbformat_minor": 2
}

{
 "cells": [
  {
   "cell_type": "code",
   "execution_count": 2,
   "metadata": {},
   "outputs": [],
   "source": [
    "def lucky_8( a, b ) :\n",
    "\t#Insert your code here\n",
    "\tintegerlist = []\n",
    "\tintegerlist.append(a)\n",
    "\tintegerlist.append(b)\n",
    "\tintegerlist.sort()\n",
    "\t\n",
    "\tpluscase = integerlist[0] + integerlist[1]\n",
    "\tminuscase = integerlist[1] - integerlist[0]\n",
    "\t\n",
    "\t\n",
    "\tif a == 8 or b == 8:\n",
    "\t\treturn True\n",
    "\telif pluscase == 8:\n",
    "\t\treturn True\n",
    "\telif minuscase == 8:\n",
    "\t\treturn True\n",
    "\telse:\n",
    "\t\treturn False"
   ]
  },
  {
   "cell_type": "code",
   "execution_count": 3,
   "metadata": {},
   "outputs": [
    {
     "data": {
      "text/plain": [
       "False"
      ]
     },
     "execution_count": 3,
     "metadata": {},
     "output_type": "execute_result"
    }
   ],
   "source": [
    "lucky_8(-100, 10)"
   ]
  },
  {
   "cell_type": "code",
   "execution_count": null,
   "metadata": {},
   "outputs": [],
   "source": []
  },
  {
   "cell_type": "code",
   "execution_count": null,
   "metadata": {},
   "outputs": [],
   "source": [
    "def special_list( values, print_backwards ) :\n",
    "\t####### DO NOT MODIFY BELOW #######\n",
    "\td = MySpecialList()\n",
    "\n",
    "\tfor value in values:\n",
    "\t\td.append(value)\n",
    "\treturn d.print_backwards() if print_backwards else d.print_forward()\n",
    "\t####### DO NOT MODIFY ABOVE #######\n",
    "\n",
    "class Node():\n",
    "\t\tdef __init__(self, data, prev, next):\n",
    "\t\t\tself.data = data\n",
    "\t\t\tself.prev = prev\n",
    "\t\t\tself.next = next\n",
    "\n",
    "class MySpecialList():\n",
    "\t\tdef append(self, data):\n",
    "\t\t\tpass\n",
    "\n",
    "\t\tdef print_forward(self):\n",
    "\t\t\tpass\n",
    "\n",
    "\t\tdef print_backwards(self):\n",
    "\t\t\tpass"
   ]
  },
  {
   "cell_type": "code",
   "execution_count": null,
   "metadata": {},
   "outputs": [],
   "source": [
    "test_list = [1,2,3,4,5]\n",
    "special_list(test_list, print_backwards=False)"
   ]
  },
  {
   "cell_type": "code",
   "execution_count": 4,
   "metadata": {},
   "outputs": [
    {
     "name": "stdout",
     "output_type": "stream",
     "text": [
      "3\n"
     ]
    }
   ],
   "source": [
    "class Node:\n",
    "  # constructor\n",
    "  def __init__(self, data, next=None): \n",
    "    self.data = data\n",
    "    self.next = next\n",
    "\n",
    "# Creating a single node\n",
    "first = Node(3)\n",
    "print(first.data)"
   ]
  },
  {
   "cell_type": "code",
   "execution_count": 6,
   "metadata": {},
   "outputs": [
    {
     "data": {
      "text/plain": [
       "True"
      ]
     },
     "execution_count": 6,
     "metadata": {},
     "output_type": "execute_result"
    }
   ],
   "source": [
    "first.next == None"
   ]
  },
  {
   "cell_type": "code",
   "execution_count": 7,
   "metadata": {},
   "outputs": [
    {
     "name": "stdout",
     "output_type": "stream",
     "text": [
      "3\n"
     ]
    }
   ],
   "source": [
    "def special_list( values, print_backwards ) :\n",
    "\t####### DO NOT MODIFY BELOW #######\n",
    "\td = MySpecialList()\n",
    "\n",
    "\tfor value in values:\n",
    "\t\td.append(value)\n",
    "\treturn d.print_backwards() if print_backwards else d.print_forward()\n",
    "\t####### DO NOT MODIFY ABOVE #######\n",
    "\n",
    "class Node():\n",
    "    def __init__(self, data=None, prev=None, next=None):\n",
    "        self.data = data\n",
    "        self.prev = prev\n",
    "        self.next = next\n",
    "\n",
    "class MySpecialList():\n",
    "    def __init__(self, head=None):\n",
    "        self.head = head\n",
    "\n",
    "    def append(self, data):\n",
    "        new = Node(data)\n",
    "        curr = self.head\n",
    "        if curr:\n",
    "            while (curr.next):\n",
    "                curr = curr.next\n",
    "            curr.next = new\n",
    "        else:\n",
    "            self.head = new\n",
    "\n",
    "    def print_forward(self):\n",
    "        curr = self.head\n",
    "        while curr:\n",
    "            print(curr.data)\n",
    "            curr = curr.next\n",
    "\n",
    "    def print_backwards(self):\n",
    "        curr = self.tail\n",
    "        while curr:\n",
    "            print(curr.data)\n",
    "            curr = curr.prev\n"
   ]
  },
  {
   "cell_type": "code",
   "execution_count": null,
   "metadata": {},
   "outputs": [],
   "source": []
  }
 ],
 "metadata": {
  "kernelspec": {
   "display_name": "leetcode",
   "language": "python",
   "name": "python3"
  },
  "language_info": {
   "codemirror_mode": {
    "name": "ipython",
    "version": 3
   },
   "file_extension": ".py",
   "mimetype": "text/x-python",
   "name": "python",
   "nbconvert_exporter": "python",
   "pygments_lexer": "ipython3",
   "version": "3.9.10 (v3.9.10:f2f3f53782, Jan 13 2022, 16:55:45) \n[Clang 13.0.0 (clang-1300.0.29.30)]"
  },
  "orig_nbformat": 4,
  "vscode": {
   "interpreter": {
    "hash": "1b9e91efbaa54890503e38c8e6e98a2cc30e601649a8b85d75ee548403ff3824"
   }
  }
 },
 "nbformat": 4,
 "nbformat_minor": 2
}

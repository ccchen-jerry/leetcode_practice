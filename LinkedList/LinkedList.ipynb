{
 "cells": [
  {
   "cell_type": "code",
   "execution_count": 2,
   "metadata": {},
   "outputs": [],
   "source": [
    "def lucky_8( a, b ) :\n",
    "\t#Insert your code here\n",
    "\tintegerlist = []\n",
    "\tintegerlist.append(a)\n",
    "\tintegerlist.append(b)\n",
    "\tintegerlist.sort()\n",
    "\t\n",
    "\tpluscase = integerlist[0] + integerlist[1]\n",
    "\tminuscase = integerlist[1] - integerlist[0]\n",
    "\t\n",
    "\t\n",
    "\tif a == 8 or b == 8:\n",
    "\t\treturn True\n",
    "\telif pluscase == 8:\n",
    "\t\treturn True\n",
    "\telif minuscase == 8:\n",
    "\t\treturn True\n",
    "\telse:\n",
    "\t\treturn False"
   ]
  },
  {
   "cell_type": "code",
   "execution_count": 3,
   "metadata": {},
   "outputs": [
    {
     "data": {
      "text/plain": [
       "False"
      ]
     },
     "execution_count": 3,
     "metadata": {},
     "output_type": "execute_result"
    }
   ],
   "source": [
    "lucky_8(-100, 10)"
   ]
  },
  {
   "cell_type": "code",
   "execution_count": 9,
   "metadata": {},
   "outputs": [],
   "source": [
    "def special_list( values, print_backwards ) :\n",
    "\t####### DO NOT MODIFY BELOW #######\n",
    "\td = MySpecialList()\n",
    "\n",
    "\tfor value in values:\n",
    "\t\td.append(value)\n",
    "\treturn d.print_backwards() if print_backwards else d.print_forward()\n",
    "\t####### DO NOT MODIFY ABOVE #######\n",
    "\n",
    "class Node():\n",
    "\tdef __init__(self, data):\n",
    "\t\tself.data = data\n",
    "\t\tself.next = None\n",
    "\t\treturn\n",
    "\n",
    "class MySpecialList():\n",
    "\tdef __init__(self):\n",
    "\t\tself.head = None\n",
    "\t\tself.tail = None\n",
    "\t\treturn\n",
    "\n",
    "\tdef append(self, data):\n",
    "\t\tif not isinstance(data, Node):\n",
    "\t\t\tdata = Node(data)\n",
    "\t\t\n",
    "\t\tif self.head == None:\n",
    "\t\t\tself.head = data\n",
    "\t\telse:\n",
    "\t\t\tself.tail.next = data\n",
    "\t\tself.tail = data\n",
    "\t\treturn\n",
    "\n",
    "\tdef print_forward(self):\n",
    "\t\tcurrent = self.head\n",
    "\t\tresult = []\n",
    "\t\twhile current.next is not None:\n",
    "\t\t\tresult.append(current.data)\n",
    "\t\t\tcurrent = current.next\n",
    "\t\tprint(result)\n",
    "\t\treturn\n",
    "\n",
    "\tdef print_backwards(self):\n",
    "\t\tcurrent = self.head\n",
    "\t\tresult = []\n",
    "\t\twhile current.next is not None:\n",
    "\t\t\tresult.append(current.data)\n",
    "\t\t\tcurrent = current.next\n",
    "\t\tresult.reverse()\n",
    "\t\tprint(result)\n",
    "\t\treturn"
   ]
  },
  {
   "cell_type": "code",
   "execution_count": 10,
   "metadata": {},
   "outputs": [
    {
     "name": "stdout",
     "output_type": "stream",
     "text": [
      "[1, 2, 3, 4]\n"
     ]
    }
   ],
   "source": [
    "test_list = [1,2,3,4,5]\n",
    "special_list(test_list, print_backwards=False)"
   ]
  },
  {
   "cell_type": "code",
   "execution_count": 11,
   "metadata": {},
   "outputs": [
    {
     "name": "stdout",
     "output_type": "stream",
     "text": [
      "this is origin list:  [1, 2, 3, 4]\n",
      "[4, 3, 2, 1]\n"
     ]
    }
   ],
   "source": [
    "test_list = [1,2,3,4,5]\n",
    "special_list(test_list, print_backwards=True)"
   ]
  },
  {
   "cell_type": "code",
   "execution_count": null,
   "metadata": {},
   "outputs": [],
   "source": []
  }
 ],
 "metadata": {
  "kernelspec": {
   "display_name": "leetcode",
   "language": "python",
   "name": "python3"
  },
  "language_info": {
   "codemirror_mode": {
    "name": "ipython",
    "version": 3
   },
   "file_extension": ".py",
   "mimetype": "text/x-python",
   "name": "python",
   "nbconvert_exporter": "python",
   "pygments_lexer": "ipython3",
   "version": "3.9.10"
  },
  "orig_nbformat": 4,
  "vscode": {
   "interpreter": {
    "hash": "1b9e91efbaa54890503e38c8e6e98a2cc30e601649a8b85d75ee548403ff3824"
   }
  }
 },
 "nbformat": 4,
 "nbformat_minor": 2
}
